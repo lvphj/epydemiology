{
 "cells": [
  {
   "cell_type": "markdown",
   "metadata": {},
   "source": [
    "# Testing functions in epydemiology"
   ]
  },
  {
   "cell_type": "markdown",
   "metadata": {},
   "source": [
    "## Import epydemiology\n",
    "(All other packages will be imported or reported missing.)"
   ]
  },
  {
   "cell_type": "code",
   "execution_count": null,
   "metadata": {},
   "outputs": [],
   "source": [
    "%matplotlib inline"
   ]
  },
  {
   "cell_type": "code",
   "execution_count": null,
   "metadata": {},
   "outputs": [],
   "source": [
    "import numpy as np\n",
    "import pandas as pd\n",
    "\n",
    "import epydemiology as epy"
   ]
  },
  {
   "cell_type": "markdown",
   "metadata": {},
   "source": [
    "## Some background details"
   ]
  },
  {
   "cell_type": "code",
   "execution_count": null,
   "metadata": {},
   "outputs": [],
   "source": [
    "help(epy)"
   ]
  },
  {
   "cell_type": "code",
   "execution_count": null,
   "metadata": {},
   "outputs": [],
   "source": [
    "dir(epy)"
   ]
  },
  {
   "cell_type": "markdown",
   "metadata": {},
   "source": [
    "---"
   ]
  },
  {
   "cell_type": "markdown",
   "metadata": {},
   "source": [
    "## FILE: phjGetData.py"
   ]
  },
  {
   "cell_type": "markdown",
   "metadata": {},
   "source": [
    "### FUNCTION: phjReadDataFromExcelNamedCellRange()"
   ]
  },
  {
   "cell_type": "code",
   "execution_count": null,
   "metadata": {},
   "outputs": [],
   "source": [
    "phjPath = \"/Users/philipjones/Coding/git_repositories/epydemiology\"\n",
    "phjFileName = \"Test data.xlsx\"\n",
    "\n",
    "import pandas as pd\n",
    "import openpyxl\n",
    "import epydemiology as epy\n",
    "\n",
    "print(\"RANGE: some_test_data\")\n",
    "print(\"=====================\")\n",
    "myDF = epy.phjReadDataFromExcelNamedCellRange(phjExcelPathAndFileName = '/'.join([phjPath,phjFileName]),\n",
    "                                              phjExcelCellRangeName = 'some_test_data',\n",
    "                                              phjDatetimeFormat = \"%d%b%Y\",\n",
    "                                              phjMissingValue = \"missing\",\n",
    "                                              phjHeaderRow = True,\n",
    "                                              phjPrintResults = True)\n",
    "\n",
    "print(myDF.dtypes)\n",
    "\n",
    "print('\\n')\n",
    "\n",
    "print(\"RANGE: some_more_test_data\")\n",
    "print(\"==========================\")\n",
    "myDF2 = epy.phjReadDataFromExcelNamedCellRange(phjExcelPathAndFileName = '/'.join([phjPath,phjFileName]),\n",
    "                                               phjExcelCellRangeName = 'some_more_test_data',\n",
    "                                               phjDatetimeFormat = \"%Y-%m-%d\",\n",
    "                                               phjMissingValue = \"missing\",\n",
    "                                               phjHeaderRow = True,\n",
    "                                               phjPrintResults = True)\n",
    "\n",
    "print(myDF.dtypes)"
   ]
  },
  {
   "cell_type": "markdown",
   "metadata": {},
   "source": [
    "---"
   ]
  },
  {
   "cell_type": "markdown",
   "metadata": {},
   "source": [
    "## FILE: phjGetDBData.py"
   ]
  },
  {
   "cell_type": "markdown",
   "metadata": {},
   "source": [
    "### FUNCTION: phjConnectToDatabase()"
   ]
  },
  {
   "cell_type": "code",
   "execution_count": null,
   "metadata": {
    "scrolled": true
   },
   "outputs": [],
   "source": [
    "import pymysql\n",
    "import pymssql\n",
    "import epydemiology as epy\n",
    "\n",
    "tempConn = epy.phjConnectToDatabase('mysql')\n",
    "\n",
    "print(tempConn)"
   ]
  },
  {
   "cell_type": "markdown",
   "metadata": {},
   "source": [
    "### FUNCTION: phjGetDataFromDatabase()"
   ]
  },
  {
   "cell_type": "markdown",
   "metadata": {},
   "source": [
    "#### Example 1 – Query stored in file"
   ]
  },
  {
   "cell_type": "code",
   "execution_count": null,
   "metadata": {},
   "outputs": [],
   "source": [
    "# The following external libraries are imported automatically but are incuded here for completeness.\n",
    "import pandas as pd\n",
    "import pymysql\n",
    "import pymssql\n",
    "import epydemiology as epy\n",
    "\n",
    "myDF = epy.phjGetDataFromDatabase(phjQueryPathAndFile = '/Users/username/Desktop/theSQLQueryFile.mssql',\n",
    "                                  phjPrintResults = True)"
   ]
  },
  {
   "cell_type": "markdown",
   "metadata": {},
   "source": [
    "#### Example 2 – Query entered directly in function call"
   ]
  },
  {
   "cell_type": "code",
   "execution_count": null,
   "metadata": {},
   "outputs": [],
   "source": [
    "# The following external libraries are imported automatically but are incuded here for completeness.\n",
    "import pandas as pd\n",
    "import pymysql\n",
    "import pymssql\n",
    "import epydemiology as epy\n",
    "\n",
    "myDF = epy.phjGetDataFromDatabase(phjQueryStr = 'SELECT * FROM Table1',\n",
    "                                  phjPrintResults = True)"
   ]
  },
  {
   "cell_type": "markdown",
   "metadata": {},
   "source": [
    "---"
   ]
  },
  {
   "cell_type": "markdown",
   "metadata": {},
   "source": [
    "## FILE: phjMiscFuncs.py"
   ]
  },
  {
   "cell_type": "markdown",
   "metadata": {},
   "source": [
    "### FUNCTION: phjGetStrFromArgOrFile()"
   ]
  },
  {
   "cell_type": "code",
   "execution_count": null,
   "metadata": {},
   "outputs": [],
   "source": []
  },
  {
   "cell_type": "markdown",
   "metadata": {},
   "source": [
    "### FUNCTION: phjReadTextFromFile()"
   ]
  },
  {
   "cell_type": "code",
   "execution_count": null,
   "metadata": {},
   "outputs": [],
   "source": [
    "myStr = epy.phjReadTextFromFile(phjFilePathAndName = '/Users/username/Desktop/myTextFile.txt',\n",
    "                                phjMaxAttempts = 3,\n",
    "                                phjPrintResults = False)"
   ]
  },
  {
   "cell_type": "markdown",
   "metadata": {},
   "source": [
    "### FUNCTION: phjCreateNameGroupRegex()"
   ]
  },
  {
   "cell_type": "markdown",
   "metadata": {},
   "source": [
    "#### phjRegexPreCompile parameter set to `False`"
   ]
  },
  {
   "cell_type": "code",
   "execution_count": null,
   "metadata": {},
   "outputs": [],
   "source": [
    "import numpy as np\n",
    "import pandas as pd\n",
    "import re\n",
    "import epydemiology as epy\n",
    "\n",
    "df = pd.DataFrame({'id':[2,2,2,1,1],\n",
    "                   'group':['dog','dog','dog','cat','cat'],\n",
    "                   'regex':['(?:dog)','(?:canine)','(?:k9)','(?:cat)','(?:feline)']})\n",
    "\n",
    "print(\"Dataframe\\n---------\")\n",
    "print(df)\n",
    "\n",
    "regexStr = epy.phjCreateNamedGroupRegex(phjDF = df,\n",
    "                                        phjGroupVarName = 'group',\n",
    "                                        phjRegexVarName = 'regex',\n",
    "                                        phjIDVarName = 'id',\n",
    "                                        phjRegexPreCompile = False,\n",
    "                                        phjPrintResults = False)\n",
    "\n",
    "print(\"\\nCombined Regex string\\n---------------------\")\n",
    "print(regexStr)"
   ]
  },
  {
   "cell_type": "markdown",
   "metadata": {},
   "source": [
    "#### phjRegexPreCompile parameter set to `True`"
   ]
  },
  {
   "cell_type": "code",
   "execution_count": null,
   "metadata": {},
   "outputs": [],
   "source": [
    "df = pd.DataFrame({'id':[2,2,2,1,1],\n",
    "                   'group':['dog','dog','dog','cat','cat'],\n",
    "                   'regex':['(?:dog)','(?:canine)','(?:k9)','(?:cat)','(?:feline)']})\n",
    "\n",
    "print(\"Dataframe\\n---------\")\n",
    "print(df)\n",
    "\n",
    "myCompiledRegexObj = epy.phjCreateNamedGroupRegex(phjDF = df,\n",
    "                                                  phjGroupVarName = 'group',\n",
    "                                                  phjRegexVarName = 'regex',\n",
    "                                                  phjIDVarName = 'id',\n",
    "                                                  phjRegexPreCompile = True,\n",
    "                                                  phjPrintResults = False)\n",
    "\n",
    "print(\"\\nCompiled Regex object\\n---------------------\")\n",
    "print(myCompiledRegexObj)"
   ]
  },
  {
   "cell_type": "markdown",
   "metadata": {},
   "source": [
    "### FUNCTION: phjFindRegexNamedGroup()"
   ]
  },
  {
   "cell_type": "code",
   "execution_count": null,
   "metadata": {},
   "outputs": [],
   "source": []
  },
  {
   "cell_type": "markdown",
   "metadata": {},
   "source": [
    "### FUNCTION: phjMaxLevelOfTaxonomicDetail()"
   ]
  },
  {
   "cell_type": "code",
   "execution_count": null,
   "metadata": {},
   "outputs": [],
   "source": [
    "import numpy as np\n",
    "import pandas as pd\n",
    "import collections\n",
    "\n",
    "myOrderedDict = collections.OrderedDict()\n",
    "myOrderedDict['Descriptor'] = ['dog','ferret','cat','rabbit','horse','primate','rodent','gerbil','guinea pig','rat','mammal','lizard','snake','common basilisk','turtle','tortoise','spur-thighed tortoise']\n",
    "myOrderedDict['Phylum'] = ['Chordata','Chordata','Chordata','Chordata','Chordata','Chordata','Chordata','Chordata','Chordata','Chordata','Chordata','Chordata','Chordata','Chordata','Chordata','Chordata','Chordata']\n",
    "myOrderedDict['Class'] = ['Mammalia','Mammalia','Mammalia','Mammalia','Mammalia','Mammalia','Mammalia','Mammalia','Mammalia','Mammalia','Mammalia','Reptilia','Reptilia','Reptilia','Reptilia','Reptilia','Reptilia']\n",
    "myOrderedDict['Order'] = ['Carnivora','Carnivora','Carnivora','Lagomorpha','Perissodactyla','Primates','Rodentia','Rodentia','Rodentia','Rodentia','','Squamata','Squamata','Squmata','Testudines','Testudines','Testudines']\n",
    "myOrderedDict['Suborder'] = ['','','Feliformia','','','','','','','','','Lacertilia','Serpentes','Iguania','','Cryptodira','Cryptodira']\n",
    "myOrderedDict['Superfamily'] = ['','','','','','','','','','','','','','','','','']\n",
    "myOrderedDict['Family'] = ['Canidae','Mustelidae','Felidae','Leporidae','Equidae','','','Muridae','Caviidae','Muridae','','','','Corytophanidae','','Testudinidae','Testudinidae']\n",
    "myOrderedDict['Subfamily'] = ['','','','','','','','Gerbillinae','','Murinae','','','','','','','']\n",
    "myOrderedDict['Genus'] = ['Canis','Mustela','Felis','Oryctolagus','Equus','','','','Cavia','Rattus','','','','Basiliscus','','','Testudo']\n",
    "myOrderedDict['Species'] = ['lupus','putorius','silvestris','cuniculus','ferus','','','','porcellus','norvegicus','','','','basiliscus','','','graeca']\n",
    "myOrderedDict['Subspecies'] = ['familiaris','furo','catus','','caballus','','','','','domestica','','','','','','','']\n",
    "\n",
    "df = pd.DataFrame(myOrderedDict)\n",
    "\n",
    "df = epy.phjMaxLevelOfTaxonomicDetail(phjDF = df,\n",
    "                                      phjFirstCol = 'Phylum',\n",
    "                                      phjLastCol = 'Subspecies',\n",
    "                                      phjNewColName = 'max_tax_details',\n",
    "                                      phjDropPreExisting = False,\n",
    "                                      phjCleanup = True,\n",
    "                                      phjPrintResults = False)"
   ]
  },
  {
   "cell_type": "markdown",
   "metadata": {},
   "source": [
    "### FUNCTION: phjReverseMap()"
   ]
  },
  {
   "cell_type": "markdown",
   "metadata": {},
   "source": [
    "#### Example 1 – exact string matches"
   ]
  },
  {
   "cell_type": "code",
   "execution_count": null,
   "metadata": {},
   "outputs": [],
   "source": [
    "myDF = pd.DataFrame({'id':[1,2,3,4,5,6,7],\n",
    "                     'var':['dogg','canine','cannine','catt','felin','cot','feline'],\n",
    "                     'dog':[1,2,3,4,5,6,7]})\n",
    "\n",
    "print(myDF)\n",
    "\n",
    "d = {'dog':['dogg','canine','cannine'],\n",
    "     'cat':['catt','felin','feline']}"
   ]
  },
  {
   "cell_type": "code",
   "execution_count": null,
   "metadata": {},
   "outputs": [],
   "source": [
    "myDF = epy.phjReverseMap(phjDF = myDF,\n",
    "                         phjMappingDict = d,\n",
    "                         phjCategoryVarName = 'var',\n",
    "                         phjMappedVarName = 'spp',\n",
    "                         phjUnmapped = 'missing',\n",
    "                         phjTreatAsRegex = False,\n",
    "                         phjDropPreExisting = True,\n",
    "                         phjPrintResults = True)"
   ]
  },
  {
   "cell_type": "markdown",
   "metadata": {},
   "source": [
    "#### Example 2 – regex"
   ]
  },
  {
   "cell_type": "code",
   "execution_count": null,
   "metadata": {},
   "outputs": [],
   "source": [
    "myDF = pd.DataFrame({'id':[1,2,3,4,5,6,7],\n",
    "                     'var':['dogg','canine','cannine','catt','felin','cot','feline'],\n",
    "                     'dog':[1,2,3,4,5,6,7]})\n",
    "\n",
    "print(myDF)\n",
    "print('\\n')\n",
    "       \n",
    "d = {'dog':['(?:dog+)','(?:can*ine)'],\n",
    "     'cat':['(?:cat+)','(?:fel+ine?)']}\n",
    "\n",
    "print(d)"
   ]
  },
  {
   "cell_type": "code",
   "execution_count": null,
   "metadata": {
    "scrolled": false
   },
   "outputs": [],
   "source": [
    "myDF = epy.phjReverseMap(phjDF = myDF,\n",
    "                         phjMappingDict = d,\n",
    "                         phjCategoryVarName = 'var',\n",
    "                         phjMappedVarName = 'new',\n",
    "                         phjUnmapped = 'missing',\n",
    "                         phjTreatAsRegex = True,\n",
    "                         phjDropPreExisting = True,\n",
    "                         phjPrintResults = True)"
   ]
  },
  {
   "cell_type": "markdown",
   "metadata": {},
   "source": [
    "### FUNCTION: phjRetrieveUniqueFromMultiDataFrames()"
   ]
  },
  {
   "cell_type": "markdown",
   "metadata": {},
   "source": [
    "#### Single dataframe"
   ]
  },
  {
   "cell_type": "code",
   "execution_count": null,
   "metadata": {},
   "outputs": [],
   "source": [
    "phjTempDF = pd.DataFrame({'a':[1,2,3,4,5,6,1,2,3,4,5,6],\n",
    "                          'b':['a','b','c','d','e','f','a','b','w','d','e','f']})\n",
    "\n",
    "print('Single variable')\n",
    "print('---------------')\n",
    "\n",
    "phjOutDF = epy.phjRetrieveUniqueFromMultiDataFrames(phjDFList = [phjTempDF],\n",
    "                                                    phjVarNameList = 'a',\n",
    "                                                    phjSort = True,\n",
    "                                                    phjPrintResults = True)\n",
    " \n",
    "print('\\n')\n",
    "print('Multiple variables')\n",
    "print('------------------')\n",
    "\n",
    "phjOutDF = epy.phjRetrieveUniqueFromMultiDataFrames(phjDFList = phjTempDF,\n",
    "                                                    phjVarNameList = ['a','b'],\n",
    "                                                    phjSort = True,\n",
    "                                                    phjPrintResults = True)"
   ]
  },
  {
   "cell_type": "markdown",
   "metadata": {},
   "source": [
    "#### Multiple dataframes of data"
   ]
  },
  {
   "cell_type": "code",
   "execution_count": null,
   "metadata": {},
   "outputs": [],
   "source": [
    "df1 = pd.DataFrame({'m':[1,2,3,4,5,6],\n",
    "                    'n':['a','b','c','d','e','f']})\n",
    " \n",
    "df2 = pd.DataFrame({'m':[2,5,7,8],\n",
    "                    'n':['b','e','g','h']})\n",
    "\n",
    "phjOutDF = epy.phjRetrieveUniqueFromMultiDataFrames(phjDFList = [df1,df2],\n",
    "                                                    phjVarNameList = ['m','n'],\n",
    "                                                    phjSort = True,\n",
    "                                                    phjPrintResults = True)"
   ]
  },
  {
   "cell_type": "markdown",
   "metadata": {},
   "source": [
    "### FUNCTION: phjUpdateLUT()"
   ]
  },
  {
   "cell_type": "markdown",
   "metadata": {},
   "source": [
    "#### Testing phjUpdateLUT() function with dataframe with single column"
   ]
  },
  {
   "cell_type": "code",
   "execution_count": null,
   "metadata": {},
   "outputs": [],
   "source": [
    "old_df = pd.DataFrame({'id':[1,2,3,4,5,6],\n",
    "                       'm':['a','b','c','d','e','f']})\n",
    " \n",
    "new_df = pd.DataFrame({'id':[1,2,3,4],\n",
    "                       'm':['b','E','g','H']})\n",
    " \n",
    "update_df = epy.phjUpdateLUT(phjExistDF = old_df,\n",
    "                             phjNewDF = new_df,\n",
    "                             phjIDName = 'id',\n",
    "                             phjVarNameList = ['m'],\n",
    "                             phjMissStr = 'missing',\n",
    "                             phjMissCode = 999,\n",
    "                             phjIgnoreCase = True,\n",
    "                             phjPrintResults = True)"
   ]
  },
  {
   "cell_type": "markdown",
   "metadata": {},
   "source": [
    "#### Testing phjUpdateLUT() function with dataframe with multiple columns"
   ]
  },
  {
   "cell_type": "code",
   "execution_count": null,
   "metadata": {},
   "outputs": [],
   "source": [
    "old_df = pd.DataFrame({'id':[1,2,3,4,5,6],\n",
    "                       'm':['a','b','c','d','e','f'],\n",
    "                       'n':['A','B','C','D','E','F']})\n",
    " \n",
    "new_df = pd.DataFrame({'id':[1,2,3,4,5],\n",
    "                       'm':['b','e','g','h','a'],\n",
    "                       'n':['BB','e','GG','H','a']})\n",
    " \n",
    "update_df = epy.phjUpdateLUT(phjExistDF = old_df,\n",
    "                             phjNewDF = new_df,\n",
    "                             phjIDName = 'id',\n",
    "                             phjVarNameList = ['m','n'],\n",
    "                             phjMissStr = 'missing',\n",
    "                             phjMissCode = 999,\n",
    "                             phjIgnoreCase = True,\n",
    "                             phjPrintResults = True)\n",
    " \n",
    "print('Updated dataframe')\n",
    "print('-----------------')\n",
    "print(update_df)"
   ]
  },
  {
   "cell_type": "markdown",
   "metadata": {},
   "source": [
    "### FUNCTION: phjUpdateLUTToLatestValues()"
   ]
  },
  {
   "cell_type": "code",
   "execution_count": null,
   "metadata": {},
   "outputs": [],
   "source": [
    "df1 = pd.DataFrame({'id':[1,2,3,4,5,6,7,8],\n",
    "                   'name':['a','b','c','d','e','f','g','h'],\n",
    "                   'value':[999,22,33,44,55,66,999,88]})\n",
    "\n",
    "df2 = pd.DataFrame({'id':[9,10,11,12],\n",
    "                    'name':['a','i','d','g'],\n",
    "                    'value':[11,99,None,77]})\n",
    "\n",
    "df = df1.append(df2).sort_values(by = ['name','id'])"
   ]
  },
  {
   "cell_type": "code",
   "execution_count": null,
   "metadata": {},
   "outputs": [],
   "source": [
    "print('First dataframe')\n",
    "print('---------------')\n",
    "print(df1)\n",
    "print('\\n')\n",
    "\n",
    "print('Second dataframe')\n",
    "print('----------------')\n",
    "print(df2)\n",
    "print('\\n')\n",
    "\n",
    "print('Joined dataframes')\n",
    "print('-----------------')\n",
    "print(df)"
   ]
  },
  {
   "cell_type": "code",
   "execution_count": null,
   "metadata": {},
   "outputs": [],
   "source": [
    "df = epy.phjUpdateLUTToLatestValues(phjDF = df,\n",
    "                                    phjIDVarName = 'id',\n",
    "                                    phjGroupbyVarName = 'name',\n",
    "                                    phjAddCountCol = True,\n",
    "                                    phjPrintResults = True)"
   ]
  },
  {
   "cell_type": "code",
   "execution_count": null,
   "metadata": {},
   "outputs": [],
   "source": []
  },
  {
   "cell_type": "markdown",
   "metadata": {},
   "source": [
    "---"
   ]
  },
  {
   "cell_type": "markdown",
   "metadata": {},
   "source": [
    "## FILE: phjMatrices.py"
   ]
  },
  {
   "cell_type": "markdown",
   "metadata": {},
   "source": [
    "### FUNCTION: phjBinaryVarsToSquareMatrix()"
   ]
  },
  {
   "cell_type": "markdown",
   "metadata": {},
   "source": [
    "#### Output a numpy array"
   ]
  },
  {
   "cell_type": "code",
   "execution_count": null,
   "metadata": {},
   "outputs": [],
   "source": [
    "rawDataDF = pd.DataFrame({'a':[0,1,1,1,0,0,1,0],\n",
    "                          'b':[1,1,0,0,1,0,0,1],\n",
    "                          'c':[0,0,1,0,1,1,1,1],\n",
    "                          'd':[1,0,0,0,1,0,0,0],\n",
    "                          'e':[1,0,0,0,0,1,0,0]})\n",
    "\n",
    "columns = ['a','b','c','d','e']\n",
    "\n",
    "print('Raw data')\n",
    "print(rawDataDF)\n",
    "print('\\n')\n",
    "\n",
    "phjMatrix = epy.phjBinaryVarsToSquareMatrix(phjDataDF = rawDataDF,\n",
    "                                        phjColumnNamesList = columns,\n",
    "                                        phjOutputFormat = 'arr',\n",
    "                                        phjPrintResults = False)\n",
    "                                        \n",
    "print('Returned square matrix')\n",
    "print(phjMatrix)"
   ]
  },
  {
   "cell_type": "markdown",
   "metadata": {},
   "source": [
    "#### Output a Pandas dataframe"
   ]
  },
  {
   "cell_type": "code",
   "execution_count": null,
   "metadata": {},
   "outputs": [],
   "source": [
    "rawDataDF = pd.DataFrame({'a':[0,1,1,1,0,0,1,0],\n",
    "                          'b':[1,1,0,0,1,0,0,1],\n",
    "                          'c':[0,0,1,0,1,1,1,1],\n",
    "                          'd':[1,0,0,0,1,0,0,0],\n",
    "                          'e':[1,0,0,0,0,1,0,0]})\n",
    "\n",
    "columns = ['a','b','c','d','e']\n",
    "\n",
    "print('Raw data')\n",
    "print(rawDataDF)\n",
    "print('\\n')\n",
    "\n",
    "phjMatrixDF = epy.phjBinaryVarsToSquareMatrix(phjDataDF = rawDataDF,\n",
    "                                              phjColumnNamesList = columns,\n",
    "                                              phjOutputFormat = 'df',\n",
    "                                              phjPrintResults = False)\n",
    "                                        \n",
    "print('Returned square matrix dataframe')\n",
    "print(phjMatrixDF)"
   ]
  },
  {
   "cell_type": "markdown",
   "metadata": {},
   "source": [
    "### FUNCTION: phjLongToWideBinary()"
   ]
  },
  {
   "cell_type": "code",
   "execution_count": null,
   "metadata": {},
   "outputs": [],
   "source": [
    "df = pd.DataFrame({'X':[1,1,1,2,2,3,3,3,3,4],\n",
    "                   'Y':['a','b','d','b','c','d','e','a','f','b']})\n",
    "\n",
    "newDF = epy.phjLongToWideBinary(phjDF = df,\n",
    "                                phjGroupbyVarName = 'X',\n",
    "                                phjVariablesVarName = 'Y',\n",
    "                                phjValuesDict = {0:0,1:1},\n",
    "                                phjPrintResults = False)\n",
    "\n",
    "print('Original dataframe\\n')\n",
    "print(df)\n",
    "\n",
    "print('\\n')\n",
    "\n",
    "print('New wide dataframe\\n')\n",
    "print(newDF)"
   ]
  },
  {
   "cell_type": "markdown",
   "metadata": {},
   "source": [
    "---"
   ]
  },
  {
   "cell_type": "markdown",
   "metadata": {},
   "source": [
    "## FILE: phjCalculateProportions.py"
   ]
  },
  {
   "cell_type": "markdown",
   "metadata": {},
   "source": [
    "### FUNCTION: phjCalculateBinomialProportions()"
   ]
  },
  {
   "cell_type": "markdown",
   "metadata": {},
   "source": [
    "#### Example of calculating binomial proportions (using phjCaculateBinomialProportions() function)"
   ]
  },
  {
   "cell_type": "code",
   "execution_count": null,
   "metadata": {},
   "outputs": [],
   "source": [
    "phjTempDF = pd.DataFrame({'group':['g1','g1','g2','g1','g2','g2','g1','g1','g2','g1'],\n",
    "                          'A':['yes','yes','no','no','no','no','no','yes',np.nan,'yes'],\n",
    "                          'B':['no',np.nan,np.nan,'yes','yes','yes','yes','no','no','no'],\n",
    "                          'C':['yes','yes','yes',np.nan,'no','yes','yes','yes','no','no']})\n",
    "\n",
    "print(phjTempDF)\n",
    "print('\\n')\n",
    "\n",
    "phjPropDF = epy.phjCalculateBinomialProportions(phjDF = phjTempDF,\n",
    "                                                phjColumnsList = ['A','B','C'],\n",
    "                                                phjSuccess = 'yes',\n",
    "                                                phjGroupVarName = 'group',\n",
    "                                                phjMissingValue = 'missing',\n",
    "                                                phjBinomialConfIntMethod = 'normal',\n",
    "                                                phjAlpha = 0.05,\n",
    "                                                phjPlotProportions = True,\n",
    "                                                phjGroupsToPlotList = 'all',\n",
    "                                                phjSortProportions = True,\n",
    "                                                phjGraphTitle = None,\n",
    "                                                phjPrintResults = False)\n",
    "\n",
    "print(phjPropDF)"
   ]
  },
  {
   "cell_type": "markdown",
   "metadata": {},
   "source": [
    "### FUNCTION: phjCalculateBinomialConfInts()"
   ]
  },
  {
   "cell_type": "code",
   "execution_count": null,
   "metadata": {},
   "outputs": [],
   "source": [
    "phjTempDF = pd.DataFrame({'year':[2005,2006,2007,2008,2009,2010,2011,2012,2013,2014,2015,2016,2017,2018],\n",
    "                          'success':[109,77,80,57,29,31,29,19,10,16,6,8,4,0],\n",
    "                          'failure':[784-109,840-77,715-80,780-57,743-29,743-31,752-29,645-19,509-10,562-16,471-6,471-8,472-4,0-0],\n",
    "                          #'total':[784,840,715,780,743,743,752,645,509,562,471,471,472,0]\n",
    "                         })\n",
    "\n",
    "print('Original dataframe\\n')\n",
    "print(phjTempDF)\n",
    "print('\\n')\n",
    "\n",
    "phjPropDF = epy.phjCalculateBinomialConfInts(phjDF = phjTempDF,\n",
    "                                             phjSuccVarName = 'success',\n",
    "                                             phjFailVarName = 'failure',\n",
    "                                             phjTotalVarName = None,\n",
    "                                             phjBinomialConfIntMethod = 'normal',\n",
    "                                             phjAlpha = 0.05,\n",
    "                                             phjPrintResults = False)\n",
    " \n",
    "print('Dataframe of confidence intervals\\n')\n",
    "print(phjPropDF)"
   ]
  },
  {
   "cell_type": "markdown",
   "metadata": {},
   "source": [
    "### FUNCTION: phjCalculateMultinomialProportions()"
   ]
  },
  {
   "cell_type": "markdown",
   "metadata": {},
   "source": [
    "#### Example of calculating multinomial proportions (using phjCalculateMultinomialProportions() function)"
   ]
  },
  {
   "cell_type": "code",
   "execution_count": null,
   "metadata": {},
   "outputs": [],
   "source": [
    "phjTempDF = pd.DataFrame({'group':['case','case','case','control','control','case','case','case','control','control','control','control','case','case','case','control','control','control','control','case','case','case','case','case',np.nan,np.nan],\n",
    "                          'category':[np.nan,'spaniel','missing','terrier','collie','labrador','labrador','collie','spaniel','spaniel','labrador','collie','terrier','terrier','terrier','collie','labrador','labrador','labrador','spaniel','spaniel','collie','collie','collie','terrier','spaniel'],\n",
    "                          'catint':[1,2,3,2,3,2,1,2,1,2,3,2,3,2,3,1,2,3,2,3,2,3,2,3,1,2]})\n",
    "\n",
    "print(phjTempDF)\n",
    "print('\\n')\n",
    "\n",
    "phjRelFreqDF = epy.phjCalculateMultinomialProportions(phjDF = phjTempDF,\n",
    "                                                      phjCategoryVarName = 'category',\n",
    "                                                      phjGroupVarName = 'group',\n",
    "                                                      phjMissingValue = 'missing',\n",
    "                                                      phjMultinomialConfIntMethod = 'goodman',\n",
    "                                                      phjAlpha = 0.05,\n",
    "                                                      phjPlotRelFreq = True,\n",
    "                                                      phjCategoriesToPlotList = 'all',\n",
    "                                                      phjGroupsToPlotList = 'all',   # Currently not implemented\n",
    "                                                      phjGraphTitle = 'Relative frequencies (Goodman CI)',\n",
    "                                                      phjPrintResults = True)\n",
    "\n",
    "print(phjRelFreqDF)"
   ]
  },
  {
   "cell_type": "markdown",
   "metadata": {},
   "source": [
    "### FUNCTION: phjSummaryTableToBinaryOutcomes()"
   ]
  },
  {
   "cell_type": "code",
   "execution_count": null,
   "metadata": {},
   "outputs": [],
   "source": [
    "# Generate the dataframe used in the original description of the function\n",
    "df = pd.DataFrame({'year':[2010,2011,2012,2013,2014],\n",
    "                   'cases':[23,34,41,57,62],\n",
    "                   'controls':[1023,1243,1145,2017,1876],\n",
    "                   'comment':['Small number of cases',\n",
    "                              'Proportion increase',\n",
    "                              'Trend continues',\n",
    "                              'Decreased proportion',\n",
    "                              'Increased again']})\n",
    "\n",
    "# Reorder the columns a little\n",
    "df = df[['year','cases','controls','comment']]\n",
    "\n",
    "# Convert to dataframe containing binary outcome data\n",
    "newDF = epy.phjSummaryTableToBinaryOutcomes(phjDF = df,\n",
    "                                            phjVarsToIncludeList = ['year','cases','controls'],\n",
    "                                            phjSuccVarName = 'cases',\n",
    "                                            phjFailVarName = 'controls',\n",
    "                                            phjTotalVarName = None,\n",
    "                                            phjOutcomeVarName = 'outcome',\n",
    "                                            phjPrintResults = False)\n",
    "\n",
    "# Print results\n",
    "print('Original table of summary results\\n')\n",
    "print(df)\n",
    "\n",
    "print('\\n')\n",
    "\n",
    "print('Dataframe of binary outcomes\\n')\n",
    "with pd.option_context('display.max_rows',6, 'display.max_columns',2):\n",
    "    print(newDF)"
   ]
  },
  {
   "cell_type": "markdown",
   "metadata": {},
   "source": [
    "### FUNCTION: phjAnnualDiseaseTrend()"
   ]
  },
  {
   "cell_type": "code",
   "execution_count": null,
   "metadata": {},
   "outputs": [],
   "source": [
    "phjDiseaseDF = pd.DataFrame({'year':[2008,2009,2010,2011,2012,2013,2014,2015,2016,2017,2018],\n",
    "                             'positive':[18,34,24,26,30,27,36,17,18,15,4],\n",
    "                             'negative':[1695,1733,1929,1517,1449,1329,1130,928,753,496,325]})\n",
    "\n",
    "phjDiseaseDF = epy.phjAnnualDiseaseTrend(phjDF = phjDiseaseDF.loc[phjDiseaseDF['year'] < 2018,:],\n",
    "                                         phjYearVarName = 'year',\n",
    "                                         phjPositivesVarName = 'positive',\n",
    "                                         phjNegativesVarName = 'negative',\n",
    "                                         phjTotalVarName = None,\n",
    "                                         phjConfIntMethod = 'normal',\n",
    "                                         phjAlpha = 0.05,\n",
    "                                         phjPlotProportions = True,\n",
    "                                         phjPlotPrediction = True,\n",
    "                                         phjGraphTitleStr = None,\n",
    "                                         phjPrintResults = False)"
   ]
  },
  {
   "cell_type": "markdown",
   "metadata": {},
   "source": [
    "---"
   ]
  },
  {
   "cell_type": "markdown",
   "metadata": {},
   "source": [
    "## FILE: phjCleanUKPostcodes.py"
   ]
  },
  {
   "cell_type": "markdown",
   "metadata": {},
   "source": [
    "### FUNCTION: phjCleanUKPostcodeVariable()"
   ]
  },
  {
   "cell_type": "markdown",
   "metadata": {},
   "source": [
    "#### Clean postcodes based on format alone"
   ]
  },
  {
   "cell_type": "code",
   "execution_count": null,
   "metadata": {
    "scrolled": false
   },
   "outputs": [],
   "source": [
    "# Create a test dataframe that contains a postcode variable and some other empty variables\n",
    "# that have the same names as the new variables that will be created. Setting the 'phjDropExisting'\n",
    "# variable to true will automatically drop pre-existing variables before running the function.\n",
    "# Some of the variables in the test dataframe are not duplicated and are present to show that the\n",
    "# function preserves those variables in tact.\n",
    "\n",
    "import numpy as np\n",
    "import pandas as pd\n",
    "import re\n",
    "\n",
    "# Create test dataframe\n",
    "myTestPostcodeDF = pd.DataFrame({'postcode': ['NP45DG',\n",
    "                                              'CH647TE',\n",
    "                                              'CH5 4HE',\n",
    "                                              'GIR 0AA',\n",
    "                                              'NOT NOWN',\n",
    "                                              'GIR0AB',\n",
    "                                              'NOR12A',\n",
    "                                              'no idea',\n",
    "                                              'W1A 1AA',\n",
    "                                              'missin',\n",
    "                                              'NP4  OGH',\n",
    "                                              'P012 OLL',\n",
    "                                              'p01s',\n",
    "                                              'ABCD',\n",
    "                                              '',\n",
    "                                              'ab123cd',\n",
    "                                              'un-known',\n",
    "                                              'B1    INJ',\n",
    "                                              'AB123CD',\n",
    "                                              'No idea what the postcode is',\n",
    "                                              '    ???NP4-5DG_*#   '],\n",
    "                                 'pcdClean': np.nan,\n",
    "                                 'pcd7': np.nan,\n",
    "                                 'postcodeOutward': np.nan,\n",
    "                                 'someOtherCol': np.nan})\n",
    "\n",
    "# Run function to extract postcode data\n",
    "print('\\nStart dataframe\\n===============\\n')\n",
    "print(myTestPostcodeDF)\n",
    "print('\\n')\n",
    "\n",
    "myTestPostcodeDF = epy.phjCleanUKPostcodeVariable(phjDF = myTestPostcodeDF,\n",
    "                                                  phjRealPostcodeSer = None,\n",
    "                                                  phjOrigPostcodeVarName = 'postcode',\n",
    "                                                  phjNewPostcodeVarName = 'pcdClean',\n",
    "                                                  phjNewPostcodeStrLenVarName = 'pcdCleanStrLen',\n",
    "                                                  phjPostcodeCheckVarName = 'pcdFormatCheck',\n",
    "                                                  phjMissingValueCode = 'missing',\n",
    "                                                  phjMinDamerauLevenshteinDistanceVarName = 'minDamLevDist',\n",
    "                                                  phjBestAlternativesVarName = 'bestAlternatives',\n",
    "                                                  phjPostcode7VarName = 'pcd7',\n",
    "                                                  phjPostcodeAreaVarName = 'pcdArea',\n",
    "                                                  phjSalvageOutwardPostcodeComponent = True,\n",
    "                                                  phjCheckByOption = 'format',\n",
    "                                                  phjDropExisting = True,\n",
    "                                                  phjPrintResults = True)\n",
    "\n",
    "print('\\nReturned dataframe\\n==================\\n')\n",
    "print(myTestPostcodeDF)"
   ]
  },
  {
   "cell_type": "markdown",
   "metadata": {},
   "source": [
    "#### Clean postcodes based on real postcode and identify closest matches"
   ]
  },
  {
   "cell_type": "code",
   "execution_count": null,
   "metadata": {
    "scrolled": false
   },
   "outputs": [],
   "source": [
    "import re\n",
    "\n",
    "# N.B. When calculating best alternative postcodes, only postcodes that are within\n",
    "# 1 DL distance are considered.\n",
    "\n",
    "# Create a Pandas series that could contain all the postcodes in the UK\n",
    "realPostcodesSer = pd.Series(['NP4 5DG','CH647TE','CH5 4HE','W1A 1AA','NP4 0GH','PO120LL','AB123CF','AB124DF','AB123CV'])\n",
    "\n",
    "# Create test dataframe\n",
    "myTestPostcodeDF = pd.DataFrame({'postcode': ['NP45DG',\n",
    "                                              'CH647TE',\n",
    "                                              'CH5 4HE',\n",
    "                                              'GIR 0AA',\n",
    "                                              'NOT NOWN',\n",
    "                                              'GIR0AB',\n",
    "                                              'NOR12A',\n",
    "                                              'no idea',\n",
    "                                              'W1A 1AA',\n",
    "                                              'missin',\n",
    "                                              'NP4  OGH',\n",
    "                                              'P012 OLL',\n",
    "                                              'p01s',\n",
    "                                              'ABCD',\n",
    "                                              '',\n",
    "                                              'ab123cd',\n",
    "                                              'un-known',\n",
    "                                              'B1    INJ',\n",
    "                                              'AB123CD',\n",
    "                                              'No idea what the postcode is',\n",
    "                                              '    ???NP4-5DG_*#   '],\n",
    "                                 'pcdClean': np.nan,\n",
    "                                 'pcd7': np.nan,\n",
    "                                 'postcodeOutward': np.nan,\n",
    "                                 'someOtherCol': np.nan})\n",
    "\n",
    "# Run function to extract postcode data\n",
    "print('\\nStart dataframe\\n===============\\n')\n",
    "print(myTestPostcodeDF)\n",
    "print('\\n')\n",
    "\n",
    "myTestPostcodeDF = epy.phjCleanUKPostcodeVariable(phjDF = myTestPostcodeDF,\n",
    "                                                  phjRealPostcodeSer = realPostcodesSer,\n",
    "                                                  phjOrigPostcodeVarName = 'postcode',\n",
    "                                                  phjNewPostcodeVarName = 'pcdClean',\n",
    "                                                  phjNewPostcodeStrLenVarName = 'pcdCleanStrLen',\n",
    "                                                  phjPostcodeCheckVarName = 'pcdFormatCheck',\n",
    "                                                  phjMissingValueCode = 'missing',\n",
    "                                                  phjMinDamerauLevenshteinDistanceVarName = 'minDamLevDist',\n",
    "                                                  phjBestAlternativesVarName = 'bestAlternatives',\n",
    "                                                  phjPostcode7VarName = 'pcd7',\n",
    "                                                  phjPostcodeAreaVarName = 'pcdArea',\n",
    "                                                  phjSalvageOutwardPostcodeComponent = True,\n",
    "                                                  phjCheckByOption = 'dictionary',\n",
    "                                                  phjDropExisting = True,\n",
    "                                                  phjPrintResults = True)\n",
    "\n",
    "print('\\nReturned dataframe\\n==================\\n')\n",
    "print(myTestPostcodeDF)"
   ]
  },
  {
   "cell_type": "markdown",
   "metadata": {},
   "source": [
    "### FUNCTION: `phjPostcodeFormat7()`"
   ]
  },
  {
   "cell_type": "code",
   "execution_count": null,
   "metadata": {},
   "outputs": [],
   "source": []
  },
  {
   "cell_type": "markdown",
   "metadata": {},
   "source": [
    "### FUNCTION: `phjConvertOSGridRefToLatLong()`"
   ]
  },
  {
   "cell_type": "code",
   "execution_count": null,
   "metadata": {},
   "outputs": [],
   "source": []
  },
  {
   "cell_type": "markdown",
   "metadata": {},
   "source": [
    "### FUNCTION: `phjSetPlacenameConjunctionsToLower()`"
   ]
  },
  {
   "cell_type": "code",
   "execution_count": null,
   "metadata": {},
   "outputs": [],
   "source": [
    "help (epy.phjSetPlacenameConjunctionsToLower)"
   ]
  },
  {
   "cell_type": "code",
   "execution_count": null,
   "metadata": {},
   "outputs": [],
   "source": [
    "import numpy as np\n",
    "import pandas as pd\n",
    "import epydemiology as epy\n",
    "\n",
    "df = pd.DataFrame({'town':['Poulton-LE-Fylde',\n",
    "                           'Stratford Upon Avon',\n",
    "                           'Newcastle UPON Tyne',\n",
    "                           'Newcastle_Under_Lyme',\n",
    "                           'Isle Of Wight',\n",
    "                           'Stow-On-The-Wold']})\n",
    "\n",
    "print('Original dataframe')\n",
    "print('------------------')\n",
    "print(df)\n",
    "print('\\n')\n",
    "\n",
    "df = epy.phjSetPlacenameConjunctionsToLower(phjDF = df,\n",
    "                                            phjSmallWordList = ['of','upon','on','under','and','le','the'],\n",
    "                                            phjSepList = ['\\\\s','-','_'],\n",
    "                                            phjColNameList = ['town'],\n",
    "                                            phjPrintResults = True)\n",
    "\n",
    "print('Dataframe with lowercase placename conjunctions')\n",
    "print('-----------------------------------------------')\n",
    "print(df)"
   ]
  },
  {
   "cell_type": "markdown",
   "metadata": {},
   "source": [
    "---"
   ]
  },
  {
   "cell_type": "markdown",
   "metadata": {},
   "source": [
    "## FILE: phjSelectData.py"
   ]
  },
  {
   "cell_type": "markdown",
   "metadata": {},
   "source": [
    "### FUNCTION: phjGenerateCaseControlDataset()"
   ]
  },
  {
   "cell_type": "code",
   "execution_count": null,
   "metadata": {},
   "outputs": [],
   "source": []
  },
  {
   "cell_type": "markdown",
   "metadata": {},
   "source": [
    "### FUNCTION: phjSelectCaseControlDataset()"
   ]
  },
  {
   "cell_type": "markdown",
   "metadata": {},
   "source": [
    "#### Unmatched controls"
   ]
  },
  {
   "cell_type": "code",
   "execution_count": null,
   "metadata": {},
   "outputs": [],
   "source": [
    "casesDF = pd.DataFrame({'animalID':[1,2,3,4,5],'var1':[43,45,34,45,56],'sp':['dog','dog','dog','dog','dog']})\n",
    "potControlsDF = pd.DataFrame({'animalID':[11,12,13,14,15,16,17,18,19,20,21,22,23,24,25,26,27,28,29,30],\n",
    "                              'var1':[34,54,34,23,34,45,56,67,56,67,78,98,65,54,34,76,87,56,45,34],\n",
    "                              'sp':['dog','cat','dog','dog','cat','dog','cat','dog','cat','dog',\n",
    "                                    'dog','dog','dog','cat','dog','cat','dog','dog','dog','cat']})\n",
    "\n",
    "print(\"This dataframe contains all the cases of disease\\n\")\n",
    "print(casesDF)\n",
    "print(\"\\n\")\n",
    "print(\"This dataframe contains all the animals you could potentially use as controls\\n\")\n",
    "print(potControlsDF)\n",
    "print(\"\\n\")\n",
    "\n",
    "# Selecting unmatched controls\n",
    "unmatchedDF = epy.phjSelectCaseControlDataset(phjCasesDF = casesDF,\n",
    "                                              phjPotentialControlsDF = potControlsDF,\n",
    "                                              phjUniqueIdentifierVarName = 'animalID',\n",
    "                                              phjMatchingVariablesList = None,\n",
    "                                              phjControlsPerCaseInt = 2,\n",
    "                                              phjPrintResults = False)\n",
    "\n",
    "print(unmatchedDF)"
   ]
  },
  {
   "cell_type": "markdown",
   "metadata": {},
   "source": [
    "#### Matched controls"
   ]
  },
  {
   "cell_type": "code",
   "execution_count": null,
   "metadata": {},
   "outputs": [],
   "source": [
    "casesDF = pd.DataFrame({'animalID':[1,2,3,4,5],'var1':[43,45,34,45,56],'sp':['dog','dog','dog','dog','dog']})\n",
    "potControlsDF = pd.DataFrame({'animalID':[11,12,13,14,15,16,17,18,19,20,21,22,23,24,25,26,27,28,29,30],\n",
    "                              'var1':[34,54,34,23,34,45,56,67,56,67,78,98,65,54,34,76,87,56,45,34],\n",
    "                              'sp':['dog','cat','dog','dog','cat','dog','cat','dog','cat','dog',\n",
    "                                    'dog','dog','dog','cat','dog','cat','dog','dog','dog','cat']})\n",
    "\n",
    "print(\"This dataframe contains all the cases of disease\\n\")\n",
    "print(casesDF)\n",
    "print(\"\\n\")\n",
    "print(\"This dataframe contains all the animals you could potentially use as controls\\n\")\n",
    "print(potControlsDF)\n",
    "print(\"\\n\")\n",
    "\n",
    "# Selecting controls that are matched to cases on variable 'sp'\n",
    "matchedDF = epy.phjSelectCaseControlDataset(phjCasesDF = casesDF,\n",
    "                                            phjPotentialControlsDF = potControlsDF,\n",
    "                                            phjUniqueIdentifierVarName = 'animalID',\n",
    "                                            phjMatchingVariablesList = ['sp'],\n",
    "                                            phjControlsPerCaseInt = 2,\n",
    "                                            phjPrintResults = False)\n",
    "\n",
    "print(matchedDF)"
   ]
  },
  {
   "cell_type": "markdown",
   "metadata": {},
   "source": [
    "### FUNCTION: phjCollapseOnPatientID()"
   ]
  },
  {
   "cell_type": "code",
   "execution_count": null,
   "metadata": {},
   "outputs": [],
   "source": []
  },
  {
   "cell_type": "markdown",
   "metadata": {},
   "source": [
    "---"
   ]
  },
  {
   "cell_type": "markdown",
   "metadata": {},
   "source": [
    "## FILE: phjCleanData.py"
   ]
  },
  {
   "cell_type": "markdown",
   "metadata": {},
   "source": [
    "### FUNCTION: phjParseDateVar()"
   ]
  },
  {
   "cell_type": "code",
   "execution_count": null,
   "metadata": {},
   "outputs": [],
   "source": []
  },
  {
   "cell_type": "markdown",
   "metadata": {},
   "source": [
    "### Function: phjStripWhiteSpc()"
   ]
  },
  {
   "cell_type": "code",
   "execution_count": null,
   "metadata": {},
   "outputs": [],
   "source": [
    "help(epy.phjStripWhiteSpc)"
   ]
  },
  {
   "cell_type": "code",
   "execution_count": null,
   "metadata": {},
   "outputs": [],
   "source": [
    "# Define a dataframe with a column that contains data consisting of strings and numeric values\n",
    "phjTempDF = pd.DataFrame({'column1':[' abc  ',1,' def  ',2,3.14,' ghi  ']})\n",
    "print(phjTempDF)"
   ]
  },
  {
   "cell_type": "code",
   "execution_count": null,
   "metadata": {},
   "outputs": [],
   "source": [
    "# View the mixed data types in 'column1' of the dataframe\n",
    "# Taken from: https://stackoverflow.com/questions/38964819/warning-multiple-data-types-in-column-of-very-large-dataframe\n",
    "print('dtypes of data columns in dataframe')\n",
    "print('-----------------------------------')\n",
    "print(phjTempDF.dtypes)\n",
    "print('\\n')\n",
    "\n",
    "print('Number of each different data type in single column')\n",
    "print('---------------------------------------------------')\n",
    "phjTempDF['column1'].apply(type).value_counts()"
   ]
  },
  {
   "cell_type": "code",
   "execution_count": null,
   "metadata": {},
   "outputs": [],
   "source": [
    "# Create a second dataframe and create a column that contains the values\n",
    "# from the original dataframe but with trailing white space stripped using\n",
    "# standard .str.strip() method. Notice that the values which were not strings\n",
    "# have been converted to NaN values.\n",
    "phjTemp2DF = pd.DataFrame()\n",
    "phjTemp2DF['column1'] = phjTempDF['column1'].str.strip()\n",
    "\n",
    "print('Effect of using standard .str.strip() method on object column')\n",
    "print('-------------------------------------------------------------')\n",
    "print(phjTemp2DF)"
   ]
  },
  {
   "cell_type": "code",
   "execution_count": null,
   "metadata": {},
   "outputs": [],
   "source": [
    "# Strip white space from string values only\n",
    "phjTempDF = epy.phjStripWhiteSpc(phjTempDF,\n",
    "                                 phjPrintResults = False)\n",
    "\n",
    "print('Effect of stripping white space from object column using phjStripWhiteSpc()')\n",
    "print('---------------------------------------------------------------------------')\n",
    "print(phjTempDF)\n",
    "print('\\n')\n",
    "\n",
    "print('...but the data types within the column remain the same')\n",
    "phjTempDF['column1'].apply(type).value_counts()"
   ]
  },
  {
   "cell_type": "markdown",
   "metadata": {},
   "source": [
    "### Function: phjUKDateStrToDatetime"
   ]
  },
  {
   "cell_type": "code",
   "execution_count": null,
   "metadata": {},
   "outputs": [],
   "source": [
    "help (epy.phjUKDateStrToDatetime)"
   ]
  },
  {
   "cell_type": "code",
   "execution_count": null,
   "metadata": {},
   "outputs": [],
   "source": [
    "# Define a dataframe with UK date strings with multiple separators and 2- or 4-digit years\n",
    "phjTempDF = pd.DataFrame({'datecol':[np.nan,\n",
    "                                     '20/03/04',\n",
    "                                     '21/04/2004',\n",
    "                                     '19-03-2010 00:00:00',\n",
    "                                     '01-02_2002',\n",
    "                                     '30-02-2003',\n",
    "                                     '02/03\\\\2006',\n",
    "                                     '03.04,2005',\n",
    "                                     '5 6:2005',\n",
    "                                     'abc',\n",
    "                                     np.nan]})\n",
    "\n",
    "print(\"Example dateframe\")\n",
    "print('-----------------')\n",
    "print(phjTempDF)\n",
    "print('\\n')\n",
    "print(\"Date column dtype\")\n",
    "print(\"-----------------\")\n",
    "print(phjTempDF.dtypes)"
   ]
  },
  {
   "cell_type": "code",
   "execution_count": null,
   "metadata": {
    "scrolled": false
   },
   "outputs": [],
   "source": [
    "# Convert date string to datetime using phjUKDateStrToDatetime() function\n",
    "phjTempDF['datecol'] = phjTempDF['datecol'].apply(lambda x: epy.phjUKDateStrToDatetime(x,\n",
    "                                                                                       phjCentury = 2000,\n",
    "                                                                                       phjPrintResults = True))\n",
    "\n",
    "# Print new column and dtype\n",
    "print(\"Example dateframe\")\n",
    "print('-----------------')\n",
    "print(phjTempDF)\n",
    "print('\\n')\n",
    "print(\"Date column dtype\")\n",
    "print(\"-----------------\")\n",
    "print(phjTempDF.dtypes)"
   ]
  },
  {
   "cell_type": "markdown",
   "metadata": {},
   "source": [
    "### Function: `phjAddColumnOfMinRepeatingString()`"
   ]
  },
  {
   "cell_type": "code",
   "execution_count": null,
   "metadata": {},
   "outputs": [],
   "source": [
    "help (epy.phjAddColumnOfMinRepeatingString)"
   ]
  },
  {
   "cell_type": "code",
   "execution_count": null,
   "metadata": {},
   "outputs": [],
   "source": [
    "df = pd.DataFrame({'OriginalStr':['Value:abcdabcd','defdefxyz','hij hij ']})\n",
    "\n",
    "print(df)"
   ]
  },
  {
   "cell_type": "code",
   "execution_count": null,
   "metadata": {},
   "outputs": [],
   "source": [
    "df = epy.phjAddColumnOfMinRepeatingString(phjDF = df,\n",
    "                                          phjColName = 'OriginalStr',\n",
    "                                          phjNewColName = 'RepeatingStr',\n",
    "                                          phjPrefixStr = 'Value:',\n",
    "                                          phjSuffixStr = 'xyz',\n",
    "                                          phjStripWhiteSpc = True,\n",
    "                                          phjPrintResults = True)"
   ]
  },
  {
   "cell_type": "code",
   "execution_count": null,
   "metadata": {},
   "outputs": [],
   "source": [
    "# Define dataframe containing example data\n",
    "myExampleDF = pd.DataFrame({'somevariable':['Producer: 12/345/6789 Other Mr A N',\n",
    "                                            'Mixed Batch Mixed Batch ',\n",
    "                                            ' Another mixed batch Another mixed batch'\n",
    "                                            '',\n",
    "                                            'FBO 98/765/4321 Happy Fmrs (Smith) AB1234',\n",
    "                                            'FBO  KARRO - MALTON UNREAD',\n",
    "                                            'Market: 56/789/1234 Livestock Sellers 56/789/1234 Livestock Sellers',\n",
    "                                            'Market: Repeated string Repeated string Repeated string Repeated stringendbit']})\n",
    "\n",
    "print(myExampleDF)"
   ]
  },
  {
   "cell_type": "code",
   "execution_count": null,
   "metadata": {},
   "outputs": [],
   "source": [
    "phjExampleDF = epy.phjAddColumnOfMinRepeatingString(phjDF = myExampleDF,\n",
    "                                                    phjColName = 'somevariable',\n",
    "                                                    phjNewColName = 'somevariable_norpt',\n",
    "                                                    phjPrefixStr = 'Market:',\n",
    "                                                    phjSuffixStr = 'endbit',\n",
    "                                                    phjReattachAffixes = True,\n",
    "                                                    phjReduceMultiSpc = True,\n",
    "                                                    phjStripWhiteSpc = True,\n",
    "                                                    phjPrintResults = False)\n",
    "\n",
    "print(phjExampleDF)"
   ]
  },
  {
   "cell_type": "markdown",
   "metadata": {},
   "source": [
    "---"
   ]
  },
  {
   "cell_type": "markdown",
   "metadata": {},
   "source": [
    "## FILE: phjExploreData.py"
   ]
  },
  {
   "cell_type": "markdown",
   "metadata": {},
   "source": [
    "### FUNCTION: phjViewLogOdds()\n",
    "Example of viewing log odds plotted against mid-point of categories."
   ]
  },
  {
   "cell_type": "markdown",
   "metadata": {},
   "source": [
    "#### Categorise using Jenks breaks and using 'yes' and 'no' as binary outcome"
   ]
  },
  {
   "cell_type": "code",
   "execution_count": null,
   "metadata": {
    "scrolled": false
   },
   "outputs": [],
   "source": [
    "# Define example dataset\n",
    "phjTempDF = pd.DataFrame({'binDepVar':['yes']*50000 + ['no']*50000,\n",
    "                          'riskFactorCont':np.random.uniform(0,1,100000)})\n",
    "\n",
    "with pd.option_context('display.max_rows', 10, 'display.max_columns', 5):\n",
    "    print(phjTempDF)\n",
    "\n",
    "    \n",
    "# View log odds\n",
    "phjOutDF = epy.phjViewLogOdds(phjDF = phjTempDF,\n",
    "                               phjBinaryDepVarName = 'binDepVar',\n",
    "                               phjContIndepVarName = 'riskFactorCont',\n",
    "                               phjCaseValue = 'yes',\n",
    "                               phjMissingValue = 'missing',\n",
    "                               phjNumberOfCategoriesInt = 5,\n",
    "                               phjNewCategoryVarName = 'categoricalVar',\n",
    "                               phjCategorisationMethod = 'jenkss',\n",
    "                               phjGroupVarName = None,\n",
    "                               phjPrintResults = True)\n",
    "\n",
    "with pd.option_context('display.max_rows', 10, 'display.max_columns', 10):\n",
    "    print('Log odds for categorised variable')\n",
    "    print(phjOutDF)\n",
    "    \n",
    "# View log odds\n",
    "phjOutDF = epy.phjViewLogOdds(phjDF = phjTempDF,\n",
    "                               phjBinaryDepVarName = 'binDepVar',\n",
    "                               phjContIndepVarName = 'riskFactorCont',\n",
    "                               phjCaseValue = 'yes',\n",
    "                               phjMissingValue = 'missing',\n",
    "                               phjNumberOfCategoriesInt = 5,\n",
    "                               phjNewCategoryVarName = 'categoricalVar',\n",
    "                               phjCategorisationMethod = 'quantile',\n",
    "                               phjGroupVarName = None,\n",
    "                               phjPrintResults = True)\n",
    "\n",
    "with pd.option_context('display.max_rows', 10, 'display.max_columns', 10):\n",
    "    print('Log odds for categorised variable')\n",
    "    print(phjOutDF)"
   ]
  },
  {
   "cell_type": "markdown",
   "metadata": {},
   "source": [
    "#### Categorise using quantile breaks and using 1 and 0 as binary outcome"
   ]
  },
  {
   "cell_type": "code",
   "execution_count": null,
   "metadata": {
    "scrolled": false
   },
   "outputs": [],
   "source": [
    "# Define example dataset\n",
    "phjTempDF = pd.DataFrame({'binDepVar':[1]*50000 + [0]*50000,\n",
    "                          'riskFactorCont':np.random.uniform(0,1,100000)})\n",
    "\n",
    "with pd.option_context('display.max_rows', 10, 'display.max_columns', 5):\n",
    "    print(phjTempDF)\n",
    "\n",
    "    \n",
    "# View log odds\n",
    "phjTempDF = epy.phjViewLogOdds(phjDF = phjTempDF,\n",
    "                               phjBinaryDepVarName = 'binDepVar',\n",
    "                               phjContIndepVarName = 'riskFactorCont',\n",
    "                               phjCaseValue = 1,\n",
    "                               phjMissingValue = 'missing',\n",
    "                               phjNumberOfCategoriesInt = 8,\n",
    "                               phjNewCategoryVarName = 'categoricalVar',\n",
    "                               phjCategorisationMethod = 'jenks',\n",
    "                               phjGroupVarName = None,\n",
    "                               phjPrintResults = False)\n",
    "\n",
    "with pd.option_context('display.max_rows', 10, 'display.max_columns', 10):\n",
    "    print('Log odds for categorised variable')\n",
    "    print(phjTempDF)"
   ]
  },
  {
   "cell_type": "markdown",
   "metadata": {},
   "source": [
    "### FUNCTION: phjCategoriseContinuousVariable()"
   ]
  },
  {
   "cell_type": "markdown",
   "metadata": {},
   "source": [
    "#### Return dataframe alone"
   ]
  },
  {
   "cell_type": "code",
   "execution_count": null,
   "metadata": {},
   "outputs": [],
   "source": [
    "# Define example dataset\n",
    "phjTempDF = pd.DataFrame({'binDepVar':['yes']*50000 + ['no']*50000,\n",
    "                          'riskFactorCont':[0.1] + ['missing','missing'] + list(np.random.uniform(0,1,49947)) + [np.nan]*50 + list(np.random.uniform(0,1,49950)) + [np.nan]*50,\n",
    "                          'otherVar':['xyz']*100000,\n",
    "                          'include':[0,1]*50000})\n",
    "\n",
    "print(phjTempDF.dtypes)\n",
    "print('\\n')\n",
    "\n",
    "with pd.option_context('display.max_rows', 10, 'display.max_columns', 5):\n",
    "    print(phjTempDF)\n",
    "\n",
    "    \n",
    "# Categorise a continuous variable\n",
    "phjTempDF = epy.phjCategoriseContinuousVariable(phjDF = phjTempDF.loc[phjTempDF['include'] == 1,:],\n",
    "                                                phjContinuousVarName = 'riskFactorCont',\n",
    "                                                phjMissingValue = 'missing',\n",
    "                                                phjNumberOfCategoriesInt = 10,\n",
    "                                                phjNewCategoryVarName = 'catVar',\n",
    "                                                phjCategorisationMethod = 'jenks',\n",
    "                                                phjReturnBreaks = False,\n",
    "                                                phjPrintResults = True)\n",
    "\n",
    "with pd.option_context('display.max_rows', 10, 'display.max_columns', 5):\n",
    "    print('\\nLog odds for categorised variable')\n",
    "    print(phjTempDF)"
   ]
  },
  {
   "cell_type": "markdown",
   "metadata": {},
   "source": [
    "#### Return dataframe and list of breaks"
   ]
  },
  {
   "cell_type": "code",
   "execution_count": null,
   "metadata": {},
   "outputs": [],
   "source": [
    "# Define example dataset\n",
    "phjTempDF = pd.DataFrame({'binDepVar':['yes']*50000 + ['no']*50000,\n",
    "                          'riskFactorCont':np.random.uniform(0,1,100000),\n",
    "                          'otherVar':['xyz']*100000})\n",
    "\n",
    "with pd.option_context('display.max_rows', 10, 'display.max_columns', 5):\n",
    "    print(phjTempDF)\n",
    "\n",
    "    \n",
    "# Categorise a continuous variable\n",
    "phjTempDF, phjBreaksList = epy.phjCategoriseContinuousVariable(phjDF = phjTempDF,\n",
    "                                                               phjContinuousVarName = 'riskFactorCont',\n",
    "                                                               phjMissingValue = 'missing',\n",
    "                                                               phjNumberOfCategoriesInt = 10,\n",
    "                                                               phjNewCategoryVarName = 'catVar',\n",
    "                                                               phjCategorisationMethod = 'quantile',\n",
    "                                                               phjReturnBreaks = True,\n",
    "                                                               phjPrintResults = False)\n",
    "\n",
    "with pd.option_context('display.max_rows', 10, 'display.max_columns', 5):\n",
    "    print('\\nCategorised variable')\n",
    "    print(phjTempDF)\n",
    "    print('\\n')\n",
    "    print('Breaks')\n",
    "    print(phjBreaksList)"
   ]
  },
  {
   "cell_type": "markdown",
   "metadata": {},
   "source": [
    "---"
   ]
  },
  {
   "cell_type": "markdown",
   "metadata": {},
   "source": [
    "## FILE: phjRROR.py"
   ]
  },
  {
   "cell_type": "markdown",
   "metadata": {},
   "source": [
    "### FUNCTION: phjOddsRatio()"
   ]
  },
  {
   "cell_type": "code",
   "execution_count": null,
   "metadata": {},
   "outputs": [],
   "source": [
    "tempDF = pd.DataFrame({'caseN':[1,1,1,1,1,1,1,1,1,1,0,0,0,0,0,0,0,0,0,0],\n",
    "                       'caseA':['y','y','y','y','y','y','y','y','n','n','n','n','n','n','n','n','n','n','n','n'],\n",
    "                       'catN':[1,2,3,2,3,4,3,2,3,4,3,2,1,2,1,2,3,2,3,4],\n",
    "                       'catA':['a','a','b','b','c','d','a','c','c','d','a','b','c','a','d','a','b','c','missing','d'],\n",
    "                       'floatN':[1.2,4.3,2.3,4.3,5.3,4.3,2.4,6.5,4.5,7.6,5.6,5.6,4.8,5.2,7.4,5.4,6.5,5.7,6.8,4.5]})\n",
    "\n",
    "phjORTable = epy.phjOddsRatio(phjDF = tempDF,\n",
    "                              phjCaseVarName = 'caseA',\n",
    "                              phjCaseValue = 'y',\n",
    "                              phjRiskFactorVarName = 'catA',\n",
    "                              phjRiskFactorBaseValue = 'a',\n",
    "                              phjMissingValue = 'missing',\n",
    "                              phjAlpha = 0.05,\n",
    "                              phjPrintResults = True)\n",
    "\n",
    "pd.options.display.float_format = '{:,.3f}'.format\n",
    "\n",
    "#print(phjORTable)"
   ]
  },
  {
   "cell_type": "markdown",
   "metadata": {},
   "source": [
    "### FUNCTION: phjRelativeRisk()"
   ]
  },
  {
   "cell_type": "code",
   "execution_count": null,
   "metadata": {},
   "outputs": [],
   "source": [
    "tempDF = pd.DataFrame({'caseN':[1,1,1,1,1,1,1,1,1,1,0,0,0,0,0,0,0,0,0,0],\n",
    "                       'caseA':['y','y','y','y','y','y','y','y','n','n','n','n','n','n','n','n','n','n','n','n'],\n",
    "                       'catN':[1,2,3,2,3,4,3,2,3,4,3,2,1,2,1,2,3,2,3,4],\n",
    "                       'catA':['a','a','b','b','c','d','a','c','c','d','a','b','c','a','d','a','b','c','missing','d'],\n",
    "                       'floatN':[1.2,4.3,2.3,4.3,5.3,4.3,2.4,6.5,4.5,7.6,5.6,5.6,4.8,5.2,7.4,5.4,6.5,5.7,6.8,4.5]})\n",
    "\n",
    "phjRRTable = epy.phjRelativeRisk( phjDF = tempDF,\n",
    "                                  phjCaseVarName = 'caseA',\n",
    "                                  phjCaseValue = 'y',\n",
    "                                  phjRiskFactorVarName = 'catA',\n",
    "                                  phjRiskFactorBaseValue = 'a',\n",
    "                                  phjMissingValue = 'missing',\n",
    "                                  phjAlpha = 0.05,\n",
    "                                  phjPrintResults = False)\n",
    "\n",
    "pd.options.display.float_format = '{:,.3f}'.format\n",
    "\n",
    "print(phjRRTable)"
   ]
  },
  {
   "cell_type": "code",
   "execution_count": null,
   "metadata": {},
   "outputs": [],
   "source": [
    "---"
   ]
  }
 ],
 "metadata": {
  "kernelspec": {
   "display_name": "Python 3",
   "language": "python",
   "name": "python3"
  },
  "language_info": {
   "codemirror_mode": {
    "name": "ipython",
    "version": 3
   },
   "file_extension": ".py",
   "mimetype": "text/x-python",
   "name": "python",
   "nbconvert_exporter": "python",
   "pygments_lexer": "ipython3",
   "version": "3.7.4"
  }
 },
 "nbformat": 4,
 "nbformat_minor": 2
}
